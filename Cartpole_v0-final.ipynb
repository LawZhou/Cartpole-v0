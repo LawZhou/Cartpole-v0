{
 "cells": [
  {
   "cell_type": "markdown",
   "metadata": {
    "colab_type": "text",
    "id": "view-in-github"
   },
   "source": [
    "<a href=\"https://colab.research.google.com/github/LawZhou/Cartpole-v0/blob/main/Cartpole_v0-final.ipynb\" target=\"_parent\"><img src=\"https://colab.research.google.com/assets/colab-badge.svg\" alt=\"Open In Colab\"/></a>"
   ]
  },
  {
   "cell_type": "code",
   "execution_count": 15,
   "metadata": {
    "id": "h75DhChCtC6e"
   },
   "outputs": [],
   "source": [
    "!apt-get install -y xvfb python-opengl > /dev/null 2>&1"
   ]
  },
  {
   "cell_type": "code",
   "execution_count": 16,
   "metadata": {
    "id": "5cwArjxJsb9v"
   },
   "outputs": [],
   "source": [
    "!pip install gym pyvirtualdisplay > /dev/null 2>&1"
   ]
  },
  {
   "cell_type": "code",
   "execution_count": 1,
   "metadata": {
    "id": "vb3nDj6qtbzV"
   },
   "outputs": [],
   "source": [
    "import gym\n",
    "import numpy as np\n",
    "from tqdm import tqdm"
   ]
  },
  {
   "cell_type": "code",
   "execution_count": 18,
   "metadata": {
    "colab": {
     "base_uri": "https://localhost:8080/"
    },
    "id": "OF2NlaXJ-JAL",
    "outputId": "0adb5314-0050-481e-a092-5c45c3816221"
   },
   "outputs": [
    {
     "data": {
      "text/plain": [
       "<pyvirtualdisplay.display.Display at 0x7f141ac06390>"
      ]
     },
     "execution_count": 18,
     "metadata": {
      "tags": []
     },
     "output_type": "execute_result"
    }
   ],
   "source": [
    "from pyvirtualdisplay import Display\n",
    "display = Display(visible=0, size=(400, 300))\n",
    "display.start()"
   ]
  },
  {
   "cell_type": "code",
   "execution_count": 5,
   "metadata": {
    "id": "5hMCiEvw-w9d"
   },
   "outputs": [],
   "source": [
    "import matplotlib.pyplot as plt\n",
    "%matplotlib inline\n",
    "from IPython import display"
   ]
  },
  {
   "cell_type": "code",
   "execution_count": 14,
   "metadata": {
    "id": "ZVzpmEifJwis"
   },
   "outputs": [],
   "source": [
    "class CartpoleAgent():\n",
    "    def __init__(self, env, num_episodes, bins=(10, 10, 20, 20), min_lr=0.1, epsilon=0.2, lr=1.0,\n",
    "                 discount_factor=1.0, lr_decay=0.25):\n",
    "        '''\n",
    "        Information about Cartpole-v0 env\n",
    "        check https://github.com/openai/gym/blob/master/gym/envs/classic_control/cartpole.py for more details.\n",
    "        Observation:\n",
    "        Type: Box(4)\n",
    "        Num     Observation               Min                     Max\n",
    "        0       Cart Position             -4.8                    4.8\n",
    "        1       Cart Velocity             -Inf                    Inf\n",
    "        2       Pole Angle                -0.418 rad (-24 deg)    0.418 rad (24 deg)\n",
    "        3       Pole Angular Velocity     -Inf                    Inf\n",
    "        Actions:\n",
    "        Type: Discrete(2)\n",
    "        Num   Action\n",
    "        0     Push cart to the left\n",
    "        1     Push cart to the right\n",
    "\n",
    "        env: the environment.\n",
    "        num_episodes: number of episodes to train.\n",
    "        bins: a tuple specifies the number of bins for each observation.\n",
    "        min_lr: the minimum learning rate.\n",
    "        epsilon: the probability of exploration.\n",
    "        lr: learning rate.\n",
    "        discount_factor: discount factor.\n",
    "        lr_decay: the rate of learning rate decay.\n",
    "        render: to toggle render during training.\n",
    "        '''\n",
    "        self.num_episodes = num_episodes\n",
    "        self.min_lr = min_lr\n",
    "        self.epsilon = epsilon\n",
    "        self.discount_factor = discount_factor\n",
    "        self.lr_decay = lr_decay\n",
    "        self.lr = lr\n",
    "        self.env = env\n",
    "\n",
    "        # Discretize the continuous space using bins.\n",
    "        self.bins = bins\n",
    "        self.position_bins = np.linspace(self.env.observation_space.low[0],\n",
    "                                         self.env.observation_space.high[0], num=self.bins[0])\n",
    "        self.pos_velocity_bins = np.linspace(-4, 4, num=self.bins[1])\n",
    "        self.angle_bins = np.linspace(self.env.observation_space.low[2],\n",
    "                                      self.env.observation_space.high[2], num=self.bins[2])\n",
    "        self.angle_velopcity_bins = np.linspace(-4, 4, num=self.bins[3])\n",
    "\n",
    "        self.Q = np.zeros(self.bins + (self.env.action_space.n,))  # Q-table\n",
    "\n",
    "    def train(self, verbose=True):\n",
    "        '''\n",
    "        Train the model for self.num_episodes episodes.\n",
    "        '''\n",
    "        steps_recorder = []\n",
    "        ite = tqdm(range(self.num_episodes), position=0) if verbose else range(self.num_episodes)\n",
    "        for ep in ite:\n",
    "            state = self.env.reset()\n",
    "            state = self.discretize_state(state)\n",
    "            self.lr = self.get_learning_rate()\n",
    "            done = False\n",
    "            steps_counter = 0\n",
    "            while not done:\n",
    "                action = self.choose_action(state)\n",
    "                next_state, reward, done, _ = self.env.step(action)\n",
    "                next_state = self.discretize_state(next_state)\n",
    "                self.update_Q(state, action, reward, next_state)\n",
    "                state = next_state\n",
    "                steps_counter += 1\n",
    "            steps_recorder.append(steps_counter)\n",
    "        return steps_recorder\n",
    "\n",
    "    def update_Q(self, state, action, reward, next_state):\n",
    "        '''\n",
    "        Update the Q table by equation:\n",
    "        Q(S, A) <- Q(S, A) + alpha*[reward + discount_factor*max_a(Q(S', a) - Q(S, A))]\n",
    "        '''\n",
    "        self.Q[state][action] += self.lr * (\n",
    "                reward + self.discount_factor * np.max(self.Q[next_state]) - self.Q[state][action])\n",
    "\n",
    "    def discretize_state(self, obs):\n",
    "        '''\n",
    "        Discretize the continuous state using bins.\n",
    "        '''\n",
    "        discrete_pos = np.digitize(obs[0], bins=self.position_bins)-1  # -1 turns bin into index\n",
    "        discrete_pos_vel = np.digitize(obs[1], bins=self.pos_velocity_bins)-1\n",
    "        discrete_angle = np.digitize(obs[2], bins=self.angle_bins)-1\n",
    "        discrete_angle_vel = np.digitize(obs[3], bins=self.angle_velopcity_bins)-1\n",
    "        discrete_state = np.array([discrete_pos, discrete_pos_vel, discrete_angle, discrete_angle_vel]).astype(np.int)\n",
    "        return tuple(discrete_state)\n",
    "\n",
    "    def choose_action(self, state, greedy=False):\n",
    "        '''\n",
    "        Choose action by following epsilon-greedy policy.\n",
    "        '''\n",
    "        if not greedy:\n",
    "            # For training\n",
    "            if np.random.random() < self.epsilon:  # Exploration\n",
    "                return self.env.action_space.sample()\n",
    "            else:\n",
    "                return np.argmax(self.Q[state]) # Exploitation\n",
    "        else:\n",
    "            # For evaluation\n",
    "            return np.argmax(self.Q[state])\n",
    "\n",
    "\n",
    "    def get_learning_rate(self):\n",
    "        '''\n",
    "        Decay the learning rate to slow down learning in the later episodes.\n",
    "        '''\n",
    "        return max(self.min_lr, self.lr - self.lr * self.lr_decay)\n",
    "\n",
    "\n",
    "    def run(self):\n",
    "        '''\n",
    "        Run an episode using the updated Q table.\n",
    "        '''\n",
    "        state = self.env.reset()\n",
    "        for ep in range(50000):\n",
    "            state = self.discretize_state(state)\n",
    "            action = self.choose_action(state, greedy=True)\n",
    "            obs, reward, done, info = self.env.step(action)\n",
    "            if done:\n",
    "                break\n",
    "            state = obs\n",
    "        return ep\n",
    "    \n",
    "    def run_with_render(self):\n",
    "      state = self.discretize_state(self.env.reset())\n",
    "      for i in range(50000):\n",
    "        state = self.discretize_state(state)\n",
    "        action = self.choose_action(state, greedy=True)\n",
    "        obs, reward, done, info = self.env.step(action)\n",
    "        show_state(self.env, step=i)\n",
    "        if done:\n",
    "          break\n",
    "        state = obs\n",
    "      self.env.close()\n",
    "      print(\"Steps that were run:\",i)\n",
    "\n",
    "def run_episodes(agent, verbose=False, play_eps=2000):\n",
    "    '''\n",
    "    Run {play_eps} episodes and compute average returns.\n",
    "    return True if the problem is solved.\n",
    "    '''\n",
    "    steps_recorder = []\n",
    "    num_solved_ep = 0\n",
    "    solved = False\n",
    "    ite = tqdm(range(play_eps)) if verbose else range(play_eps)\n",
    "    for _ in ite:\n",
    "        returns = agent.run()\n",
    "        num_solved_ep += 1 if returns >= 195 else 0\n",
    "        if num_solved_ep >= 100: solved = True\n",
    "        steps_recorder.append(returns)\n",
    "    steps_recorder = np.array(steps_recorder)\n",
    "    avg_rtn = np.mean(steps_recorder)\n",
    "    if verbose:\n",
    "        print(f'Finish with mean steps: {avg_rtn} in {play_eps} episodes')\n",
    "        print(f'{np.count_nonzero(steps_recorder >= 195)} episodes last more than 195 steps.')\n",
    "        if solved:\n",
    "            print('Problem solved.')\n",
    "        \n",
    "    return solved, avg_rtn, steps_recorder\n",
    "\n",
    "\n",
    "def show_state(env, step=0, info=\"\"):\n",
    "    '''\n",
    "    Render the environment.\n",
    "    Reference: https://stackoverflow.com/questions/40195740/how-to-run-openai-gym-render-over-a-server\n",
    "    '''\n",
    "    plt.figure(3)\n",
    "    plt.clf()\n",
    "    plt.imshow(env.render(mode='rgb_array'))\n",
    "    plt.title(\"Step: %d %s\" % (step, info))\n",
    "    plt.axis('off')\n",
    "    display.clear_output(wait=True)\n",
    "    display.display(plt.gcf())\n",
    "\n",
    "def visualize(steps, title=\"Number of steps VS episodes in training\"):\n",
    "    num_episodes = len(steps)\n",
    "    plt.bar(range(num_episodes), steps, width=0.5)\n",
    "    plt.title(title)\n",
    "    plt.ylabel('Number of steps')\n",
    "    plt.xlabel('Episodes')\n",
    "    plt.show()\n"
   ]
  },
  {
   "cell_type": "markdown",
   "metadata": {
    "id": "YSPzB9eFxT6d"
   },
   "source": [
    "# Hyperparameter untuned model"
   ]
  },
  {
   "cell_type": "code",
   "execution_count": 3,
   "metadata": {
    "colab": {
     "base_uri": "https://localhost:8080/"
    },
    "id": "sHGxSJloxTL9",
    "outputId": "4c0e8018-3918-4882-9991-99c84ce7df06"
   },
   "outputs": [
    {
     "name": "stderr",
     "output_type": "stream",
     "text": [
      "100%|██████████| 5000/5000 [00:56<00:00, 88.99it/s] \n",
      "100%|██████████| 2000/2000 [00:17<00:00, 114.07it/s]"
     ]
    },
    {
     "name": "stdout",
     "output_type": "stream",
     "text": [
      "Finish with mean steps: 146.9685 in 2000 episodes\n",
      "505 episodes last more than 195 steps.\n",
      "Problem solved.\n"
     ]
    },
    {
     "name": "stderr",
     "output_type": "stream",
     "text": [
      "\n"
     ]
    }
   ],
   "source": [
    "env = gym.make('CartPole-v0')\n",
    "\n",
    "env.reset()\n",
    "agent = CartpoleAgent(env, num_episodes=5000)\n",
    "train_step_recorder = agent.train()\n",
    "solved, avg_rtn, test_step_recorder = run_episodes(agent, verbose=True)"
   ]
  },
  {
   "cell_type": "code",
   "execution_count": 15,
   "metadata": {
    "colab": {
     "base_uri": "https://localhost:8080/",
     "height": 295
    },
    "id": "BtMYBygvxkeG",
    "outputId": "3e74bc88-e252-4b77-bb16-0bfb5d50470a"
   },
   "outputs": [
    {
     "data": {
      "image/png": "[encoded data removed]",
      "text/plain": [
       "<Figure size 432x288 with 1 Axes>"
      ]
     },
     "metadata": {
      "needs_background": "light"
     },
     "output_type": "display_data"
    }
   ],
   "source": [
    "visualize(test_step_recorder, title='untuned model test result')"
   ]
  },
  {
   "cell_type": "markdown",
   "metadata": {
    "id": "vZjd8DCwxQlH"
   },
   "source": [
    "# Hyperparameter tuned model"
   ]
  },
  {
   "cell_type": "code",
   "execution_count": 9,
   "metadata": {
    "colab": {
     "base_uri": "https://localhost:8080/"
    },
    "id": "Sazc1H8o9YJm",
    "outputId": "f5733aad-6d34-4d76-a31f-f7fc65623d96"
   },
   "outputs": [],
   "source": [
    "import itertools as it\n",
    "\n",
    "## Hyperparameter Tuning\n",
    "params = {\n",
    "    'epsilon': [0.05, 0.1, 0.2, 0.5],\n",
    "    'lr': [0.7, 0.8, 0.9, 1],\n",
    "    'discount_factor': [0.7, 0.8, 0.9, 1.0]\n",
    "}\n",
    "\n",
    "def hyperparameter_tuning(agent_func, train_eps = 1000, play_eps = 300, params = params):\n",
    "    env = gym.make('CartPole-v0')\n",
    "    combinations = it.product(*(params[param] for param in params))\n",
    "    \n",
    "    [best_agent, best_parameters, best_avg_rtn] = [None] * 3\n",
    "    \n",
    "    for combination in tqdm(list(combinations), position=0):\n",
    "        kwarg = {list(params.keys())[i]: combination[i] for i in range(len(params.keys()))}\n",
    "        agent = agent_func(env, num_episodes = train_eps, **kwarg)\n",
    "        step_recorder = agent.train(verbose=False)\n",
    "        solved, avg_rtn, _ = run_episodes(agent, play_eps = play_eps)\n",
    "        if not best_avg_rtn or avg_rtn > best_avg_rtn:\n",
    "            best_agent, best_parameters, best_avg_rtn = agent, kwarg, avg_rtn\n",
    "    return best_agent, best_parameters, best_avg_rtn"
   ]
  },
  {
   "cell_type": "code",
   "execution_count": 10,
   "metadata": {},
   "outputs": [
    {
     "name": "stderr",
     "output_type": "stream",
     "text": [
      "100%|██████████| 64/64 [04:00<00:00,  3.76s/it]"
     ]
    },
    {
     "name": "stdout",
     "output_type": "stream",
     "text": [
      "best_parameters: {'epsilon': 0.5, 'lr': 0.7, 'discount_factor': 1.0}\n",
      "best_avg_rtn: 175.05\n"
     ]
    },
    {
     "name": "stderr",
     "output_type": "stream",
     "text": [
      "\n"
     ]
    }
   ],
   "source": [
    "best_agent, best_parameters, best_avg_rtn = hyperparameter_tuning(CartpoleAgent)\n",
    "\n",
    "print(f'best_parameters: {best_parameters}')\n",
    "print(f'best_avg_rtn: {best_avg_rtn}')"
   ]
  },
  {
   "cell_type": "code",
   "execution_count": 12,
   "metadata": {
    "colab": {
     "base_uri": "https://localhost:8080/"
    },
    "id": "QsiFFdwuJ4QE",
    "outputId": "09c2d606-336c-4739-8c84-41147fa54c97"
   },
   "outputs": [
    {
     "name": "stderr",
     "output_type": "stream",
     "text": [
      "100%|██████████| 5000/5000 [00:34<00:00, 142.99it/s]\n"
     ]
    }
   ],
   "source": [
    "env = gym.make('CartPole-v0')\n",
    "\n",
    "env.reset()\n",
    "tuned_agent = CartpoleAgent(env, num_episodes=5000, **best_parameters)\n",
    "tuned_train_step_recorder = tuned_agent.train()\n",
    "solved, avg_rtn, tuned_test_step_recorder = run_episodes(tuned_agent)"
   ]
  },
  {
   "cell_type": "code",
   "execution_count": 16,
   "metadata": {
    "colab": {
     "base_uri": "https://localhost:8080/",
     "height": 295
    },
    "id": "zbER91smJKhR",
    "outputId": "2f842fa8-aa6f-4fc7-8e97-dc14b72aa098"
   },
   "outputs": [
    {
     "data": {
      "image/png": "[encoded data removed]",
      "text/plain": [
       "<Figure size 432x288 with 1 Axes>"
      ]
     },
     "metadata": {
      "needs_background": "light"
     },
     "output_type": "display_data"
    }
   ],
   "source": [
    "visualize(tuned_test_step_recorder, title='tuned model test result')"
   ]
  },
  {
   "cell_type": "code",
   "execution_count": null,
   "metadata": {},
   "outputs": [],
   "source": []
  }
 ],
 "metadata": {
  "colab": {
   "include_colab_link": true,
   "name": "Cartpole_v0.ipynb",
   "provenance": []
  },
  "kernelspec": {
   "display_name": "Python 3",
   "language": "python",
   "name": "python3"
  },
  "language_info": {
   "codemirror_mode": {
    "name": "ipython",
    "version": 3
   },
   "file_extension": ".py",
   "mimetype": "text/x-python",
   "name": "python",
   "nbconvert_exporter": "python",
   "pygments_lexer": "ipython3",
   "version": "3.8.5"
  }
 },
 "nbformat": 4,
 "nbformat_minor": 1
}
