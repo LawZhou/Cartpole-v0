{
  "nbformat": 4,
  "nbformat_minor": 0,
  "metadata": {
    "colab": {
      "name": "Cartpole-v0.ipynb",
      "provenance": [],
      "authorship_tag": "ABX9TyOj+rMGCksVd80N87R3uHA8",
      "include_colab_link": true
    },
    "kernelspec": {
      "name": "python3",
      "display_name": "Python 3"
    }
  },
  "cells": [
    {
      "cell_type": "markdown",
      "metadata": {
        "id": "view-in-github",
        "colab_type": "text"
      },
      "source": [
        "<a href=\"https://colab.research.google.com/github/LawZhou/Cartpole-v0/blob/main/Cartpole_v0.ipynb\" target=\"_parent\"><img src=\"https://colab.research.google.com/assets/colab-badge.svg\" alt=\"Open In Colab\"/></a>"
      ]
    },
    {
      "cell_type": "code",
      "metadata": {
        "id": "h75DhChCtC6e"
      },
      "source": [
        "!apt-get install -y xvfb python-opengl > /dev/null 2>&1"
      ],
      "execution_count": 10,
      "outputs": []
    },
    {
      "cell_type": "code",
      "metadata": {
        "id": "5cwArjxJsb9v"
      },
      "source": [
        "!pip install gym pyvirtualdisplay > /dev/null 2>&1"
      ],
      "execution_count": 11,
      "outputs": []
    },
    {
      "cell_type": "code",
      "metadata": {
        "id": "vb3nDj6qtbzV"
      },
      "source": [
        "import gym\n",
        "import numpy as np\n",
        "from tqdm import tqdm"
      ],
      "execution_count": 12,
      "outputs": []
    },
    {
      "cell_type": "code",
      "metadata": {
        "colab": {
          "base_uri": "https://localhost:8080/"
        },
        "id": "OF2NlaXJ-JAL",
        "outputId": "212ee734-af05-452c-8c4a-be5ec4ce2ce1"
      },
      "source": [
        "from pyvirtualdisplay import Display\n",
        "display = Display(visible=0, size=(400, 300))\n",
        "display.start()"
      ],
      "execution_count": 13,
      "outputs": [
        {
          "output_type": "execute_result",
          "data": {
            "text/plain": [
              "<pyvirtualdisplay.display.Display at 0x7f087eb1fd50>"
            ]
          },
          "metadata": {
            "tags": []
          },
          "execution_count": 13
        }
      ]
    },
    {
      "cell_type": "code",
      "metadata": {
        "id": "5hMCiEvw-w9d"
      },
      "source": [
        "import matplotlib.pyplot as plt\n",
        "%matplotlib inline\n",
        "from IPython import display"
      ],
      "execution_count": 14,
      "outputs": []
    },
    {
      "cell_type": "code",
      "metadata": {
        "id": "ZVzpmEifJwis"
      },
      "source": [
        "class CartpoleAgent():\n",
        "    def __init__(self, env, num_episodes, bins=(10, 10, 20, 20), min_lr=0.1, epsilon=0.2, lr=1.0,\n",
        "                 discount_factor=1.0, lr_decay=0.25):\n",
        "        '''\n",
        "        Information about Cartpole-v0 env\n",
        "        check https://github.com/openai/gym/blob/master/gym/envs/classic_control/cartpole.py for more details.\n",
        "        Observation:\n",
        "        Type: Box(4)\n",
        "        Num     Observation               Min                     Max\n",
        "        0       Cart Position             -4.8                    4.8\n",
        "        1       Cart Velocity             -Inf                    Inf\n",
        "        2       Pole Angle                -0.418 rad (-24 deg)    0.418 rad (24 deg)\n",
        "        3       Pole Angular Velocity     -Inf                    Inf\n",
        "        Actions:\n",
        "        Type: Discrete(2)\n",
        "        Num   Action\n",
        "        0     Push cart to the left\n",
        "        1     Push cart to the right\n",
        "\n",
        "        env: the environment.\n",
        "        num_episodes: number of episodes to train.\n",
        "        bins: a tuple specifies the number of bins for each observation.\n",
        "        min_lr: the minimum learning rate.\n",
        "        epsilon: the probability of exploration.\n",
        "        lr: learning rate.\n",
        "        discount_factor: discount factor.\n",
        "        lr_decay: the rate of learning rate decay.\n",
        "        render: to toggle render during training.\n",
        "        '''\n",
        "        self.num_episodes = num_episodes\n",
        "        self.min_lr = min_lr\n",
        "        self.epsilon = epsilon\n",
        "        self.discount_factor = discount_factor\n",
        "        self.lr_decay = lr_decay\n",
        "        self.lr = lr\n",
        "        self.env = env\n",
        "\n",
        "        # Discretize the continuous space using bins.\n",
        "        self.bins = bins\n",
        "        self.position_bins = np.linspace(self.env.observation_space.low[0],\n",
        "                                         self.env.observation_space.high[0], num=self.bins[0])\n",
        "        self.pos_velocity_bins = np.linspace(-4, 4, num=self.bins[1])\n",
        "        self.angle_bins = np.linspace(self.env.observation_space.low[2],\n",
        "                                      self.env.observation_space.high[2], num=self.bins[2])\n",
        "        self.angle_velopcity_bins = np.linspace(-4, 4, num=self.bins[3])\n",
        "\n",
        "        self.Q = np.zeros(self.bins + (self.env.action_space.n,))  # Q-table\n",
        "\n",
        "    def train(self):\n",
        "        '''\n",
        "        Train the model for self.num_episodes episodes.\n",
        "        '''\n",
        "        steps_recorder = []\n",
        "        for ep in tqdm(range(self.num_episodes)):\n",
        "            state = self.env.reset()\n",
        "            state = self.discretize_state(state)\n",
        "            self.lr = self.get_learning_rate()\n",
        "            done = False\n",
        "            steps_counter = 0\n",
        "            while not done:\n",
        "                action = self.choose_action(state)\n",
        "                next_state, reward, done, _ = self.env.step(action)\n",
        "                next_state = self.discretize_state(next_state)\n",
        "                self.update_Q(state, action, reward, next_state)\n",
        "                state = next_state\n",
        "                steps_counter += 1\n",
        "            steps_recorder.append(steps_counter)\n",
        "        return steps_recorder\n",
        "\n",
        "    def update_Q(self, state, action, reward, next_state):\n",
        "        '''\n",
        "        Update the Q table by equation:\n",
        "        Q(S, A) <- Q(S, A) + alpha*[reward + discount_factor*max_a(Q(S', a) - Q(S, A))]\n",
        "        '''\n",
        "        self.Q[state][action] += self.lr * (\n",
        "                reward + self.discount_factor * np.max(self.Q[next_state]) - self.Q[state][action])\n",
        "\n",
        "    def discretize_state(self, obs):\n",
        "        '''\n",
        "        Discretize the continuous state using bins.\n",
        "        '''\n",
        "        discrete_pos = np.digitize(obs[0], bins=self.position_bins)-1  # -1 turns bin into index\n",
        "        discrete_pos_vel = np.digitize(obs[1], bins=self.pos_velocity_bins)-1\n",
        "        discrete_angle = np.digitize(obs[2], bins=self.angle_bins)-1\n",
        "        discrete_angle_vel = np.digitize(obs[3], bins=self.angle_velopcity_bins)-1\n",
        "        discrete_state = np.array([discrete_pos, discrete_pos_vel, discrete_angle, discrete_angle_vel]).astype(np.int)\n",
        "        return tuple(discrete_state)\n",
        "\n",
        "    def choose_action(self, state, greedy=False):\n",
        "        '''\n",
        "        Choose action by following epsilon-greedy policy.\n",
        "        '''\n",
        "        if not greedy:\n",
        "            # For training\n",
        "            if np.random.random() < self.epsilon:  # Exploration\n",
        "                return self.env.action_space.sample()\n",
        "            else:\n",
        "                return np.argmax(self.Q[state]) # Exploitation\n",
        "        else:\n",
        "            # For evaluation\n",
        "            return np.argmax(self.Q[state])\n",
        "\n",
        "\n",
        "    def get_learning_rate(self):\n",
        "        '''\n",
        "        Decay the learning rate to slow down learning in the later episodes.\n",
        "        '''\n",
        "        return max(self.min_lr, self.lr - self.lr * self.lr_decay)\n",
        "\n",
        "\n",
        "    def run(self):\n",
        "        '''\n",
        "        Run an episode using the updated Q table.\n",
        "        '''\n",
        "        state = self.env.reset()\n",
        "        for ep in range(50000):\n",
        "            state = self.discretize_state(state)\n",
        "            action = self.choose_action(state, greedy=True)\n",
        "            obs, reward, done, info = self.env.step(action)\n",
        "            if done:\n",
        "                break\n",
        "            state = obs\n",
        "        return ep\n",
        "    \n",
        "    def run_with_render(self):\n",
        "      state = self.discretize_state(self.env.reset())\n",
        "      for i in range(50000):\n",
        "        state = self.discretize_state(state)\n",
        "        action = self.choose_action(state, greedy=True)\n",
        "        obs, reward, done, info = self.env.step(action)\n",
        "        show_state(self.env, step=i)\n",
        "        if done:\n",
        "          break\n",
        "        state = obs\n",
        "      self.env.close()\n",
        "      print(\"Steps that were run:\",i)\n",
        "\n",
        "def run_episodes(agent, play_eps=2000):\n",
        "    '''\n",
        "    Run {play_eps} episodes and compute average returns.\n",
        "    return True if the problem is solved.\n",
        "    '''\n",
        "    steps_recorder = []\n",
        "    num_solved_ep = 0\n",
        "    solved = False\n",
        "    for _ in range(play_eps):\n",
        "        returns = agent.run()\n",
        "        num_solved_ep += 1 if returns >= 195 else 0\n",
        "        if num_solved_ep >= 100: solved = True\n",
        "        steps_recorder.append(returns)\n",
        "    steps_recorder = np.array(steps_recorder)\n",
        "    avg_rtn = np.mean(steps_recorder)\n",
        "    print(f'Finish with mean steps: {avg_rtn} in {play_eps} episodes')\n",
        "    print(f'{np.count_nonzero(steps_recorder >= 195)} episodes last more than 195 steps.')\n",
        "    if solved:\n",
        "      print('Problem solved.')\n",
        "    return solved, avg_rtn\n",
        "\n",
        "\n",
        "def show_state(env, step=0, info=\"\"):\n",
        "    '''\n",
        "    Render the environment.\n",
        "    Reference: https://stackoverflow.com/questions/40195740/how-to-run-openai-gym-render-over-a-server\n",
        "    '''\n",
        "    plt.figure(3)\n",
        "    plt.clf()\n",
        "    plt.imshow(env.render(mode='rgb_array'))\n",
        "    plt.title(\"Step: %d %s\" % (step, info))\n",
        "    plt.axis('off')\n",
        "    display.clear_output(wait=True)\n",
        "    display.display(plt.gcf())\n",
        "\n",
        "def visualize(steps):\n",
        "    num_episodes = len(steps)\n",
        "    plt.bar(range(num_episodes), steps, width=0.5)\n",
        "    plt.title(\"Number of steps VS episodes in training\")\n",
        "    plt.ylabel('Number of steps')\n",
        "    plt.xlabel('Episodes')\n",
        "    plt.show()\n"
      ],
      "execution_count": 15,
      "outputs": []
    },
    {
      "cell_type": "code",
      "metadata": {
        "colab": {
          "base_uri": "https://localhost:8080/"
        },
        "id": "QsiFFdwuJ4QE",
        "outputId": "121d8205-7f01-4934-aeca-4f4496bfcd91"
      },
      "source": [
        "env = gym.make('CartPole-v0')\n",
        "\n",
        "print('train using Q learning:')\n",
        "env.reset()\n",
        "agent = CartpoleAgent(env, num_episodes=5000)\n",
        "step_recorder = agent.train()\n",
        "solved, avg_rtn = run_episodes(agent)"
      ],
      "execution_count": 16,
      "outputs": [
        {
          "output_type": "stream",
          "text": [
            "  2%|▏         | 97/5000 [00:00<00:05, 969.61it/s]"
          ],
          "name": "stderr"
        },
        {
          "output_type": "stream",
          "text": [
            "train using Q learning:\n"
          ],
          "name": "stdout"
        },
        {
          "output_type": "stream",
          "text": [
            "100%|██████████| 5000/5000 [01:00<00:00, 82.69it/s]\n"
          ],
          "name": "stderr"
        },
        {
          "output_type": "stream",
          "text": [
            "Finish with mean steps: 196.227 in 2000 episodes\n",
            "1915 episodes last more than 195 steps.\n",
            "Problem solved.\n"
          ],
          "name": "stdout"
        }
      ]
    },
    {
      "cell_type": "code",
      "metadata": {
        "colab": {
          "base_uri": "https://localhost:8080/",
          "height": 528
        },
        "id": "0VdiVjudy4qW",
        "outputId": "4f997adc-57d2-4f60-98e2-4ddff7b1ffe2"
      },
      "source": [
        "agent.run_with_render()"
      ],
      "execution_count": 17,
      "outputs": [
        {
          "output_type": "display_data",
          "data": {
            "image/png": "[encoded data removed]",
            "text/plain": [
              "<Figure size 432x288 with 1 Axes>"
            ]
          },
          "metadata": {
            "tags": []
          }
        },
        {
          "output_type": "stream",
          "text": [
            "Steps that were run: 199\n"
          ],
          "name": "stdout"
        },
        {
          "output_type": "display_data",
          "data": {
            "image/png": "[encoded data removed]",
            "text/plain": [
              "<Figure size 432x288 with 1 Axes>"
            ]
          },
          "metadata": {
            "tags": [],
            "needs_background": "light"
          }
        }
      ]
    },
    {
      "cell_type": "code",
      "metadata": {
        "colab": {
          "base_uri": "https://localhost:8080/",
          "height": 295
        },
        "id": "zbER91smJKhR",
        "outputId": "aac02d8f-3d12-4029-ad38-43699edb7b8f"
      },
      "source": [
        "visualize(step_recorder)"
      ],
      "execution_count": 18,
      "outputs": [
        {
          "output_type": "display_data",
          "data": {
            "image/png": "[encoded data removed]",
            "text/plain": [
              "<Figure size 432x288 with 1 Axes>"
            ]
          },
          "metadata": {
            "tags": [],
            "needs_background": "light"
          }
        }
      ]
    }
  ]
}